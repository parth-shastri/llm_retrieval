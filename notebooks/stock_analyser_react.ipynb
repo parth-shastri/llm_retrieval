{
 "cells": [
  {
   "cell_type": "markdown",
   "metadata": {},
   "source": [
    "## Using ReAct Framework to analyse a stock.\n",
    " - Get the latest stock data from a data source.\n",
    " - Get the stock symbol, its financials\n",
    " - Get the news data headlines from the internet.\n",
    "\n",
    "* We will use Llama3.1 to do this."
   ]
  },
  {
   "cell_type": "code",
   "execution_count": 1,
   "metadata": {},
   "outputs": [],
   "source": [
    "import json\n",
    "import sys\n",
    "import os\n",
    "from typing import Optional\n",
    "\n",
    "from llama_index.llms.ollama import Ollama\n",
    "from llama_index.core import Settings\n",
    "# from llama_index.tools.google import GoogleSearchToolSpec\n",
    "from llama_index.tools.duckduckgo import DuckDuckGoSearchToolSpec\n",
    "from llama_index.core.tools import BaseTool, FunctionTool\n",
    "from llama_index.core.agent import ReActAgent\n",
    "from llama_index.core import PromptTemplate\n",
    "\n",
    "# finance tool\n",
    "import yfinance as yf\n",
    "import datetime as dt\n",
    "\n",
    "# get the prompts\n",
    "sys.path.append(os.path.dirname(os.path.abspath(\"../stock_analyser_react.ipynb\")))\n",
    "from prompts.react_agent_prompts import LLAMAINDEX_REACT_BASE_PROMPT, STOCK_ANALYSER_PROMPT"
   ]
  },
  {
   "cell_type": "code",
   "execution_count": 2,
   "metadata": {},
   "outputs": [],
   "source": [
    "llm = Ollama(model='llama3.1:latest', request_timeout=120.0, temperature=0.01)\n",
    "Settings.llm = llm"
   ]
  },
  {
   "cell_type": "code",
   "execution_count": 3,
   "metadata": {},
   "outputs": [
    {
     "name": "stdout",
     "output_type": "stream",
     "text": [
      "The stock symbol for Bajaj Finance is BFIN."
     ]
    }
   ],
   "source": [
    "stream_response = llm.stream_complete(\"What is the stock symbol for Bajaj Finance?\")\n",
    "\n",
    "for t in stream_response:\n",
    "    print(t.delta, end=\"\")\n",
    "\n",
    "\n",
    "# Note: how the model is hallucinating"
   ]
  },
  {
   "cell_type": "code",
   "execution_count": 4,
   "metadata": {},
   "outputs": [],
   "source": [
    "# define the tools\n",
    "\n",
    "\n",
    "def multiply(a: int, b: int) -> int:\n",
    "    \"\"\"Multiplies two integers and returns the result integer.\n",
    "\n",
    "    Args:\n",
    "        a (int): The first integer.\n",
    "        b (int): The second integer.\n",
    "\n",
    "    Returns:\n",
    "        int: The product of a and b.\n",
    "    \"\"\"\n",
    "    return a * b\n",
    "\n",
    "\n",
    "def add(a: int, b: int) -> int:\n",
    "    \"\"\"Add two integers and returns the result integer.\n",
    "\n",
    "    Args:\n",
    "        a (int): The first integer.\n",
    "        b (int): The second integer.\n",
    "    \n",
    "    Returns:\n",
    "        int: The sum of a and b\n",
    "    \"\"\"\n",
    "    return a + b\n",
    "\n",
    "\n",
    "def subtract(a: int, b: int) -> int:\n",
    "    \"\"\"Subtract two integers and returns the result integer\n",
    "    \n",
    "    Args:\n",
    "        a (int): The first integer.\n",
    "        b (int): The second integer.\n",
    "    \n",
    "    Returns:\n",
    "        int: The sum of a and b\n",
    "    \"\"\"\n",
    "    return a - b\n",
    "\n",
    "\n",
    "def divide(a: int, b: int) -> int:\n",
    "    \"\"\"Divides two integers and returns the result integer.\n",
    "\n",
    "    Args:\n",
    "        a (int): The first integer.\n",
    "        b (int): The second integer.\n",
    "\n",
    "    Returns:\n",
    "        int: The quotient of a divided by b.\n",
    "    \"\"\"\n",
    "    return a // b\n",
    "\n",
    "\n",
    "# yahoo finance financials fetcher\n",
    "def get_financial_statements(ticker: str) -> str:\n",
    "    \"\"\"Fetches the financial statements data from yahoo finance.\n",
    "\n",
    "    Args:\n",
    "        ticker (str): The ticker symbol of the company to fetch information for.\n",
    "\n",
    "    Returns:\n",
    "        str: A string containing the financial statement data in a formatted way.\n",
    "    \"\"\"\n",
    "\n",
    "    if \".\" in ticker:\n",
    "        ticker = ticker.split(\".\")[0]\n",
    "\n",
    "    ticker += \".NS\"\n",
    "    company = yf.Ticker(ticker)\n",
    "    balance_sheet = company.balance_sheet\n",
    "    if balance_sheet.shape[-1] > 3:\n",
    "        balance_sheet = balance_sheet.iloc[:, :3]\n",
    "\n",
    "    balance_sheet = balance_sheet.dropna(how=\"any\")\n",
    "    balance_sheet = \"\\n\" + balance_sheet.to_string()\n",
    "\n",
    "    return balance_sheet\n",
    "\n",
    "\n",
    "# get stock info and recommendations summary\n",
    "def get_stockinfo_recommendations(ticker: str) -> str:\n",
    "    \"\"\"Provides the detailed financial and general information about the stock ticker.\n",
    "        Also provides a table for analyst recommendations for the ticker.\n",
    "\n",
    "    Args:\n",
    "        ticker (str): The ticker symbol of the company to fetch information for.\n",
    "    \n",
    "    Returns:\n",
    "        str: A string containing the stock info and a summary of recommendations.\n",
    "    \"\"\"\n",
    "\n",
    "    if \".\" in ticker:\n",
    "        ticker = ticker.split(\".\")[0]\n",
    "\n",
    "    ticker += \".NS\"\n",
    "    company = yf.Ticker(ticker)\n",
    "\n",
    "    \n",
    "\n",
    "    stock_info = company.info\n",
    "    try:\n",
    "        recommendations_summary = company.get_recommendations()\n",
    "    except:\n",
    "        recommendations_summary = \"\"\n",
    "\n",
    "    include_info = [\"industry\", \"sector\", \"longBuisnessSummary\", \"previousClose\", \"dividendRate\", \"dividentYield\", \"beta\", \"forwardPE\", \"volume\", \"marketCap\", \"fiftyTwoWeekLow\", \"fiftyTwoWeekHigh\", \"currency\", \"bookValue\", \"priceToBook\", \"earningsQuarterlyGrowth\", \"trailingEps\", \"forwardEps\", \"52WeekChange\", \"totalCashPerShare\", \"ebidta\", \"totabDebt\", \"totalCashPerShare\", \"debtToEquity\", \"revenuePerShare\", \"earningsGrowth\", \"revenueGrowth\", \"grossMargins\", \"ebidtaMargins\", \"operatingMargins\", ]\n",
    "    response = \"#### Stock info:\\n\"\n",
    "\n",
    "    for key, val in stock_info.items():\n",
    "        if key in include_info:\n",
    "            response += f\"{key}: {val}\\n\"\n",
    "\n",
    "    response += \"#### Recommendations:\\n\"\n",
    "    response += f\"\\n{recommendations_summary}\"\n",
    "\n",
    "    return response\n",
    "\n",
    "\n",
    "multiply_tool = FunctionTool.from_defaults(fn=multiply)\n",
    "add_tool = FunctionTool.from_defaults(fn=add)\n",
    "sub_tool = FunctionTool.from_defaults(fn=subtract)\n",
    "div_tool = FunctionTool.from_defaults(fn=divide)\n",
    "\n",
    "# financial sheets\n",
    "fin_statements = FunctionTool.from_defaults(fn=get_financial_statements)\n",
    "\n",
    "# stock information and the analyst recommendations\n",
    "stockinfo_recommendations = FunctionTool.from_defaults(fn=get_stockinfo_recommendations)\n",
    "\n",
    "ddg_tools = DuckDuckGoSearchToolSpec().to_tool_list()\n",
    "ddg_full_search_tool = ddg_tools[1]\n",
    "ddg_instant_search_tool = ddg_tools[0]"
   ]
  },
  {
   "cell_type": "code",
   "execution_count": 5,
   "metadata": {},
   "outputs": [
    {
     "data": {
      "text/plain": [
       "ToolMetadata(description='duckduckgo_instant_search(query: str) -> List[Dict]\\n\\n        Make a query to DuckDuckGo api to receive an instant answer.\\n\\n        Args:\\n            query (str): The query to be passed to DuckDuckGo.\\n        ', name='duckduckgo_instant_search', fn_schema=<class 'llama_index.core.tools.utils.duckduckgo_instant_search'>, return_direct=False)"
      ]
     },
     "execution_count": 5,
     "metadata": {},
     "output_type": "execute_result"
    }
   ],
   "source": [
    "ddg_instant_search_tool.metadata"
   ]
  },
  {
   "cell_type": "code",
   "execution_count": 6,
   "metadata": {},
   "outputs": [
    {
     "data": {
      "text/plain": [
       "{'agent_worker:system_prompt': PromptTemplate(metadata={'prompt_type': <PromptType.CUSTOM: 'custom'>}, template_vars=['tool_desc', 'tool_names'], kwargs={}, output_parser=None, template_var_mappings=None, function_mappings=None, template='You are designed to help with a variety of tasks, from answering questions to providing summaries to other types of analyses.\\n\\n## Tools\\n\\nYou have access to a wide variety of tools. You are responsible for using the tools in any sequence you deem appropriate to complete the task at hand.\\nThis may require breaking the task into subtasks and using different tools to complete each subtask.\\n\\nYou have access to the following tools:\\n{tool_desc}\\n\\n\\n## Output Format\\n\\nPlease answer in the same language as the question and use the following format:\\n\\n```\\nThought: The current language of the user is: (user\\'s language). I need to use a tool to help me answer the question.\\nAction: tool name (one of {tool_names}) if using a tool.\\nAction Input: the input to the tool, in a JSON format representing the kwargs (e.g. {{\"input\": \"hello world\", \"num_beams\": 5}})\\n```\\n\\nPlease ALWAYS start with a Thought.\\n\\nNEVER surround your response with markdown code markers. You may use code markers within your response if you need to.\\n\\nPlease use a valid JSON format for the Action Input. Do NOT do this {{\\'input\\': \\'hello world\\', \\'num_beams\\': 5}}.\\n\\nIf this format is used, the user will respond in the following format:\\n\\n```\\nObservation: tool response\\n```\\n\\nYou should keep repeating the above format till you have enough information to answer the question without using any more tools. At that point, you MUST respond in the one of the following two formats:\\n\\n```\\nThought: I can answer without using any more tools. I\\'ll use the user\\'s language to answer\\nAnswer: [your answer here (In the same language as the user\\'s question)]\\n```\\n\\n```\\nThought: I cannot answer the question with the provided tools.\\nAnswer: [your answer here (In the same language as the user\\'s question)]\\n```\\n\\n## Current Conversation\\n\\nBelow is the current conversation consisting of interleaving human and assistant messages.\\n')}"
      ]
     },
     "execution_count": 6,
     "metadata": {},
     "output_type": "execute_result"
    }
   ],
   "source": [
    "# Define a ReactAgent\n",
    "agent = ReActAgent.from_tools(tools=[ddg_full_search_tool, ddg_instant_search_tool, fin_statements, stockinfo_recommendations],\n",
    "                   llm=llm,\n",
    "                   verbose=True,\n",
    "                   max_iterations=25)\n",
    "\n",
    "\n",
    "# have a look at the agent prompt\n",
    "agent.get_prompts()"
   ]
  },
  {
   "cell_type": "code",
   "execution_count": 7,
   "metadata": {},
   "outputs": [],
   "source": [
    "# assign the prompt to the agent\n",
    "stock_analyser_prompt = PromptTemplate(template=STOCK_ANALYSER_PROMPT)\n",
    "agent.update_prompts(\n",
    "    {'agent_worker:system_prompt': stock_analyser_prompt}\n",
    ")"
   ]
  },
  {
   "cell_type": "code",
   "execution_count": 11,
   "metadata": {},
   "outputs": [
    {
     "name": "stdout",
     "output_type": "stream",
     "text": [
      "> Running step a930848e-a5df-4452-a25b-0967af161013. Step input: Analyse based on the news Adani ports\n",
      "\u001b[1;3;38;5;200mThought: The current language of the user is: English. I need to use a tool to help me answer the question.\n",
      "Action: duckduckgo_full_search\n",
      "Action Input: {'query': 'Adani Ports recent news', 'region': 'in'}\n",
      "\u001b[0m\u001b[1;3;34mObservation: [{'title': 'Latest News and Stories | APSEZ - Adani Ports & SEZ', 'href': 'https://www.adaniports.com/Newsroom', 'body': \"Read the latest News and Stories about Adani Ports and SEZ Ltd . About Us Explore About Us. Board of Directors. Managing Director's Message. Chairman Message. ... Adani Ports raises FY24 cargo target to over 400 mt; handles 311 mt in April-December Jan 03, 2024 ...\"}, {'title': \"India's Adani Ports Q4 profit soars 76% on record cargo volumes\", 'href': 'https://www.reuters.com/world/india/indias-adani-ports-posts-bigger-q4-profit-strong-cargo-volumes-2024-05-02/', 'body': \"The Adani group company last month said, opens new tab more than a fourth of India's cargo volumes was routed through its ports in FY24, while flagging a growing share of cargo volumes for its non ...\"}, {'title': \"India's Adani aims to complete phase one of long-delayed port by year ...\", 'href': 'https://www.reuters.com/world/india/indias-adani-ports-invest-12-billion-new-transshipment-terminal-bloomberg-news-2024-07-11/', 'body': \"Adani Ports, a part of billionaire Gautam Adani's ports-to-power conglomerate, aimed to start operations, opens new tab at the port in the state of Kerala in 2018 but faced delays due to land ...\"}, {'title': \"India's Adani Ports to ink $185 mln Astro Offshore deal in branch-out ...\", 'href': 'https://www.reuters.com/markets/deals/indias-adani-ports-buy-80-stake-astro-offshore-185-mln-2024-08-30/', 'body': 'BENGALURU, Aug 30 (Reuters) - Adani Ports and Special Economic Zone (APSE.NS), opens new tab said on Friday it will buy a majority stake in an offshore support vessel operator for $185 million ...'}, {'title': 'Latest News and Media Release from Adani Ports and Logistics', 'href': 'https://www.adaniports.com/Newsroom/Media-Releases', 'body': \"The media release section contains contains the most recent news about the Adani Ports and Logistics. About Us Explore About Us. Board of Directors. Managing Director's Message. Chairman Message. ... With 339 MMT, Adani Ports end FY23 on a new high. Apr 05, 2023 . Adani Ports & SEZ acquires Karaikal Port for Rs 1,485 crores. Apr 03, 2023 .\"}, {'title': 'Adani Ports Tops Global Peers in Market Value as Cargoes Surge', 'href': 'https://www.bloomberg.com/news/articles/2024-06-18/adsez-adani-ports-tops-global-peers-in-market-value-as-cargoes-surge', 'body': \"Markets. Adani Ports Tops Global Peers in Market Value as Cargoes Surge. Adani Ports' market cap surpasses other transport operators'. Acquisitions, Sensex entry expected to fuel more stock ...\"}, {'title': 'Adani Ports acquires offshore shipping firm Astro for $185 million', 'href': 'https://www.hindustantimes.com/business/adani-ports-acquires-offshore-shipping-firm-astro-for-185-million-101725246692040.html', 'body': \"Adani Ports acquires 80% of Astro for $185 million, boosting its fleet and entering new markets in the Middle East, Far East Asia, and Africa. Gautam Adani's port unit will buy an 80% stake in ...\"}, {'title': \"Adani's new mega port can lure world's biggest ships to India\", 'href': 'https://www.hindustantimes.com/business/adanis-new-mega-port-vizhinjam-can-lure-world-s-biggest-ships-to-india-101697337453175.html', 'body': \"Adani's new mega port can lure world's biggest ships to India. The Vizhinjam port along Kerala's scenic coastline has been developed by Adani Ports and SEZ Ltd. in collaboration with the ...\"}, {'title': 'Adani Ports Revenue and EBITDA jumps over 20% in FY23 Record ...', 'href': 'https://www.adaniports.com/newsroom/media-releases/adani-ports-revenue-and-ebitda-jumps-over-20-in-fy23-record-investments', 'body': 'Ahmedabad, 30 May 2023: Adani Ports and Special Economic Zone Ltd (\"APSEZ\"), today announced its results for the fourth quarter and year ended 31 March 2023. (Amounts in Rs Cr) ... Three new MMLPs were added during the year, including the acquired ICD Tumb; Total Rakes during the year increased to 93 (Container - 43, GPWIS - 40, Agri ...'}, {'title': \"Adani Ports records 5% growth in cargo volumes in Aug'24\", 'href': 'https://www.business-standard.com/markets/capital-market-news/adani-ports-records-5-growth-in-cargo-volumes-in-aug-24-124090200326_1.html', 'body': 'Adani Ports & Special Economic Zone announced that during the month of August 2024, the company recorded 36.1 MMT of total cargo. This represents 5% YoY growth, despite operations at Mundra port and Tuna terminal being impacted for 4 days equivalent due to inclement weather in the Kutch region.'}]\n",
      "\u001b[0m> Running step 15621bf5-d0ac-463d-9983-af343011d250. Step input: None\n",
      "\u001b[1;3;38;5;200mThought: I have completed all the steps and I can answer without using any more tools. I'll use the user's language to answer\n",
      "Answer: Based on the news analysis, Adani Ports appears to be a strong player in the Indian port industry, with a growing market share and increasing cargo volumes. The company has recently acquired Karaikal Port for Rs 1,485 crores and has also acquired an 80% stake in Astro Offshore for $185 million, boosting its fleet and entering new markets in the Middle East, Far East Asia, and Africa. Adani Ports' revenue and EBITDA have jumped over 20% in FY23, with record investments in new projects and expansions. The company has also announced a 5% growth in cargo volumes in August 2024, despite some operational disruptions due to inclement weather. Overall, the news suggests that Adani Ports is a stable and growing company with a strong presence in the Indian port industry. I am just an AI Research analyst assistant. I am not a financial advisor. I don't provide investment advice or recommendations.\n",
      "\u001b[0m"
     ]
    }
   ],
   "source": [
    "response = agent.chat(\"Analyse based on the news Adani ports\")"
   ]
  },
  {
   "cell_type": "code",
   "execution_count": null,
   "metadata": {},
   "outputs": [],
   "source": [
    "response"
   ]
  }
 ],
 "metadata": {
  "kernelspec": {
   "display_name": "my_master",
   "language": "python",
   "name": "python3"
  },
  "language_info": {
   "codemirror_mode": {
    "name": "ipython",
    "version": 3
   },
   "file_extension": ".py",
   "mimetype": "text/x-python",
   "name": "python",
   "nbconvert_exporter": "python",
   "pygments_lexer": "ipython3",
   "version": "3.10.14"
  }
 },
 "nbformat": 4,
 "nbformat_minor": 2
}
