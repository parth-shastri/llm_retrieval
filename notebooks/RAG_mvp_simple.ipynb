{
 "cells": [
  {
   "cell_type": "markdown",
   "metadata": {},
   "source": [
    "## The MVP (most viable ?) pipeline for RAG\n",
    " - This is a *very* simple pipeline that uses simple components.\n",
    " - uses the HuggingFace models.\n",
    " - uses `sentence-transformers` for embedding."
   ]
  },
  {
   "cell_type": "code",
   "execution_count": 1,
   "metadata": {},
   "outputs": [
    {
     "name": "stderr",
     "output_type": "stream",
     "text": [
      "/home/ostrich/anaconda3/envs/my_master/lib/python3.10/site-packages/sentence_transformers/cross_encoder/CrossEncoder.py:11: TqdmExperimentalWarning: Using `tqdm.autonotebook.tqdm` in notebook mode. Use `tqdm.tqdm` instead to force console mode (e.g. in jupyter console)\n",
      "  from tqdm.autonotebook import tqdm, trange\n"
     ]
    }
   ],
   "source": [
    "from sentence_transformers import SentenceTransformer\n",
    "from wikipediaapi import Wikipedia\n",
    "import numpy as np"
   ]
  },
  {
   "cell_type": "code",
   "execution_count": 2,
   "metadata": {},
   "outputs": [],
   "source": [
    "# init the model & the embed_models\n",
    "model = SentenceTransformer(\"Alibaba-NLP/gte-base-en-v1.5\", trust_remote_code=True)"
   ]
  },
  {
   "cell_type": "code",
   "execution_count": 3,
   "metadata": {},
   "outputs": [],
   "source": [
    "wiki = Wikipedia('RAGBot/0.0', 'en')\n",
    "doc = wiki.page(\"The Laws of Cricket\").text"
   ]
  },
  {
   "cell_type": "code",
   "execution_count": 4,
   "metadata": {},
   "outputs": [
    {
     "name": "stdout",
     "output_type": "stream",
     "text": [
      "25\n"
     ]
    }
   ],
   "source": [
    "paragraphs = doc.split(\"\\n\\n\")\n",
    "print(len(paragraphs))"
   ]
  },
  {
   "cell_type": "code",
   "execution_count": 5,
   "metadata": {},
   "outputs": [],
   "source": [
    "docs_embed = model.encode(paragraphs, normalize_embeddings=True)\n",
    "# embed query\n",
    "query = \"What are the most prominent laws of cricket?\"\n",
    "query_embed = model.encode(query, normalize_embeddings=True)"
   ]
  },
  {
   "cell_type": "code",
   "execution_count": 6,
   "metadata": {},
   "outputs": [
    {
     "name": "stdout",
     "output_type": "stream",
     "text": [
      "(25,)\n"
     ]
    }
   ],
   "source": [
    "similarities = np.dot(docs_embed, query_embed.T)\n",
    "print(similarities.shape)\n",
    "top3_index = np.argsort(-similarities)[:3].tolist()\n",
    "most_similar_documents = [paragraphs[idx] for idx in top3_index]"
   ]
  },
  {
   "cell_type": "code",
   "execution_count": 7,
   "metadata": {},
   "outputs": [
    {
     "data": {
      "text/plain": [
       "['The Laws of Cricket is a code that specifies the rules of the game of cricket worldwide. The earliest known code was drafted in 1744. Since 1788, the code has been owned and maintained by the private Marylebone Cricket Club (MCC) in Lord\\'s Cricket Ground, London. There are currently 42 Laws (always written with a capital \"L\"), which describe all aspects of how the game is to be played. MCC has re-coded the Laws six times, each with interim revisions that produce more than one edition. The most recent code, the seventh, was released in October 2017; its 3rd edition came into force on 1 October 2022. \\nFormerly cricket\\'s official governing body, the MCC has handed that role to the International Cricket Council (ICC). But MCC retains copyright of the Laws and remains the only body that may change them, although usually this is only done after close consultation with the ICC and other interested parties such as the Association of Cricket Umpires and Scorers. \\nCricket is one of the few sports in which the governing principles are referred to as \"Laws\" rather than as \"rules\" or \"regulations\". In certain cases, however, regulations to supplement and/or vary the Laws may be agreed for particular competitions as required. Those applying to international matches (referred to as \"playing conditions\") can be found on the ICC\\'s website.',\n",
       " 'Law 8: The wickets. The wicket consists of three wooden stumps that are 28 inches (71.12 cm) tall. The stumps are placed along the bowling crease with equal distances between each stump. They are positioned so that the wicket is 9 inches (22.86 cm) wide. Two wooden bails are placed on top of the stumps. The bails must not project more than 0.5 inches (1.27 cm) above the stumps, and must, for men\\'s cricket, be 4.31 inches (10.95 cm) long. There are also specified lengths for the barrel and spigots of the bail. There are different specifications for the wickets and bails for junior cricket. The umpires may dispense with the bails if conditions are unfit (i.e. it is windy so they might fall off by themselves). Further details on the specifications of the wickets are contained in Appendix D to the Laws.\\nLaw 9: Preparation and maintenance of the playing area. When a cricket ball is bowled it almost always bounces on the pitch, and the behaviour of the ball is greatly influenced by the condition of the pitch. As a consequence, detailed rules on the management of the pitch are necessary. This Law contains the rules governing how pitches should be prepared, mown, rolled, and maintained.\\nLaw 10: Covering the pitch. The pitch is said to be \\'covered\\' when the groundsmen have placed covers on it to protect it against rain or dew. The Laws stipulate that the regulations on covering the pitch shall be agreed by both captains in advance. The decision concerning whether to cover the pitch greatly affects how the ball will react to the pitch surface, as a ball bounces differently on wet ground as compared to dry ground. The area beyond the pitch where a bowler runs so as to deliver the ball (the \\'run-up\\') should ideally be kept dry so as to avoid injury through slipping and falling, and the Laws also require these to be covered wherever possible when there is wet weather.\\nLaw 11: Intervals. There are intervals during each day\\'s play, a ten-minute interval between innings, and lunch, tea and drinks intervals. The timing and length of the intervals must be agreed before the match begins. There are also provisions for moving the intervals and interval lengths in certain situations, most notably the provision that if nine wickets are down, the lunch and tea interval are delayed to the earlier of the fall of the next wicket and 30 minutes elapsing. According to Law 11.8, a drinks interval \"shall be kept as short as possible and in any case shall not exceed 5 minutes.\"\\nLaw 12: Start of play; cessation of play. Play after an interval commences with the umpire\\'s call of \"Play\", and ceases at the end of a session with a call of \"Time\". The last hour of a match must contain at least 20 overs, being extended in time so as to include 20 overs if necessary.',\n",
       " \"Players, substitutes and practice\\nLaw 24: Fielders' absence; Substitutes. In cricket, a substitute may be brought on for an injured fielder. However, a substitute may not bat, bowl or act as captain. The original player may return if he has recovered.\\nLaw 25: Batter's innings; Runners A batter who becomes unable to run may have a runner, who completes the runs while the batter continues batting. (The use of runners is not permitted in international cricket under the current playing conditions.) Alternatively, a batter may retire hurt or ill, and may return later to resume his innings if he recovers.\\nLaw 26: Practice on the field. There may be no batting or bowling practice on the pitch during the match. Practice is permitted on the outfield during the intervals and before the day's play starts and after the day's play has ended. Bowlers may only practice bowling and have trial run-ups if the umpires are of the view that it would waste no time and does not damage the ball or the pitch.\\nLaw 27: The wicket-keeper. The keeper is a designated player from the bowling side allowed to stand behind the stumps of the batter. They are the only fielder allowed to wear gloves and external leg guards.\\nLaw 28: The fielder. A fielder is any of the eleven cricketers from the bowling side. Fielders are positioned to field the ball, to stop runs and boundaries, and to get batsmen out by catching or running them out.\"]"
      ]
     },
     "execution_count": 7,
     "metadata": {},
     "output_type": "execute_result"
    }
   ],
   "source": [
    "most_similar_documents"
   ]
  }
 ],
 "metadata": {
  "kernelspec": {
   "display_name": "my_master",
   "language": "python",
   "name": "python3"
  },
  "language_info": {
   "codemirror_mode": {
    "name": "ipython",
    "version": 3
   },
   "file_extension": ".py",
   "mimetype": "text/x-python",
   "name": "python",
   "nbconvert_exporter": "python",
   "pygments_lexer": "ipython3",
   "version": "3.10.14"
  }
 },
 "nbformat": 4,
 "nbformat_minor": 2
}
