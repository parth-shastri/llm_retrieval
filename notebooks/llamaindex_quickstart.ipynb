{
 "cells": [
  {
   "cell_type": "code",
   "execution_count": 1,
   "metadata": {},
   "outputs": [],
   "source": [
    "# ! pip install llama_index   # some LlamaIndex core + some supported additional packages\n",
    "# ! pip install llama-index-llms-ollama\n",
    "# ! pip install llama-index-embeddings-ollama"
   ]
  },
  {
   "cell_type": "markdown",
   "metadata": {},
   "source": [
    "## LLamaIndex Introduction\n",
    "#### Context Augmentation\n",
    " - LLMs offer natural language interface for user. They are trained to complete your sentences.\n",
    " - They are not trained on your specific data requirements, they are trained on general data.\n",
    " - Your data may be far from the context that LLMs are trained on. For example, it might be behind APIs, SQL databases, PDFs etc.\n",
    " - To solve this problem, we can use context augmentation. Context Augmentation is a technique to add context to your LLM queries.\n",
    "\n",
    " - We can use context augmentation to make LLMs more robust and accurate. e.g. (Retrieval augmented Generation.)\n",
    "\n",
    " #### Agents\n",
    "  -  Agents are LLM-powered assistants equipped with additional capabilities, they can perform research, data extraction and more. (an LLM equipped with tool is an example)\n",
    "\n",
    "#### Workflows\n",
    " - Workflows are a collection of agents that work together to solve a specific problem.\n",
    "\n",
    "These all can be made possible by using the LLamaIndex framework.\n",
    "\n",
    "\n",
    "LlamaIndex uses alot of integrations (over 300+ integrations) to connect LLMs with various data sources and tools.\n",
    "The imports are mentioned with the following pattern:\n",
    "\n",
    "```python\n",
    "# typical pattern\n",
    "from llama_index.core.xxx import ClassABC  # core submodule xxx\n",
    "from llama_index.xxx.yyy import (\n",
    "    SubclassABC,\n",
    ")  # integration yyy for submodule xxx\n",
    "\n",
    "# concrete example\n",
    "from llama_index.core.llms import LLM\n",
    "from llama_index.llms.openai import OpenAI\n",
    "```"
   ]
  },
  {
   "cell_type": "markdown",
   "metadata": {},
   "source": [
    "* ### A simple RAG pipeline"
   ]
  },
  {
   "cell_type": "code",
   "execution_count": 15,
   "metadata": {},
   "outputs": [],
   "source": [
    "# imports\n",
    "# setting up the LLM\n",
    "from llama_index.llms.ollama import Ollama\n",
    "from llama_index.core import Settings                                   # This is the global context; wherein we set the llm and model\n",
    "# loading data: Ingestion\n",
    "from llama_index.core import VectorStoreIndex, SimpleDirectoryReader\n",
    "from llama_index.embeddings.ollama import OllamaEmbedding\n",
    "# persisting data: Storage\n",
    "from llama_index.core import StorageContext, load_index_from_storage"
   ]
  },
  {
   "cell_type": "code",
   "execution_count": 3,
   "metadata": {},
   "outputs": [],
   "source": [
    "# Loading LLM (Local)\n",
    "llm = Ollama(model=\"llama3.1:latest\")\n",
    "resp = llm.complete(\"who is Paul Graham?\")\n",
    "\n",
    "Settings.llm = llm"
   ]
  },
  {
   "cell_type": "code",
   "execution_count": 17,
   "metadata": {},
   "outputs": [],
   "source": [
    "# Loading Embedding model (local)\n",
    "embedding_model = OllamaEmbedding(model_name=\"nomic-embed-text:latest\")\n",
    "Settings.embed_model = embedding_model\n"
   ]
  },
  {
   "cell_type": "code",
   "execution_count": 12,
   "metadata": {},
   "outputs": [
    {
     "name": "stdout",
     "output_type": "stream",
     "text": [
      "Doc ID: e489bb9c-7601-48c6-a825-9bfc5ed0772b\n",
      "Text: Laws  of Cricket  2017 Code (3rd Edition  - 2022)  1\n",
      "THE LAWS  OF CRICKET  2017  CODE  (3rd Edition - 2022)\n",
      "© Marylebone  Cricket  Club\n"
     ]
    }
   ],
   "source": [
    "# Ingestion\n",
    "documents = SimpleDirectoryReader('../data').load_data()\n",
    "\n",
    "# print one doc\n",
    "for doc in documents[1:]:\n",
    "    print(\"Document stored in Documents:\")\n",
    "    print(doc)\n",
    "    break\n",
    "\n",
    "# Vector store index\n",
    "index = VectorStoreIndex.from_documents(documents)"
   ]
  },
  {
   "cell_type": "code",
   "execution_count": 13,
   "metadata": {},
   "outputs": [],
   "source": [
    "# storing the data to index\n",
    "# persist on a disk\n",
    "index.storage_context.persist(persist_dir=\"../index\")"
   ]
  },
  {
   "cell_type": "code",
   "execution_count": 18,
   "metadata": {},
   "outputs": [],
   "source": [
    "# loading the index from disk (We can store into VectorStore like chromadb, pgvector)\n",
    "storage_context = StorageContext.from_defaults(persist_dir=\"../index\")\n",
    "\n",
    "# load the index\n",
    "index = load_index_from_storage(storage_context)"
   ]
  },
  {
   "cell_type": "code",
   "execution_count": 19,
   "metadata": {},
   "outputs": [],
   "source": [
    "assert index == index"
   ]
  },
  {
   "cell_type": "code",
   "execution_count": 33,
   "metadata": {},
   "outputs": [
    {
     "name": "stdout",
     "output_type": "stream",
     "text": [
      "In the spirit of cricket, respect is central. The major responsibility for ensuring fair play rests with the captains, but extends to all players, match officials, and others involved in the game.\n",
      "\n",
      "The two key principles that govern the game of cricket are:\n",
      "\n",
      "1. **Respect**: Respect your captain, teammates, opponents, and the authority of the umpires.\n",
      "2. **Fair Play**: Play hard and play fair, accept the umpire's decision, and create a positive atmosphere by your own conduct.\n",
      "\n",
      "Additionally, the laws of cricket emphasize the importance of self-discipline, congratulating the opposition on their successes, enjoying those of your own team, thanking officials and opponents at the end of the match, and promoting leadership, friendship, and teamwork.\n"
     ]
    }
   ],
   "source": [
    "# create a query engine\n",
    "query_engine = index.as_query_engine()\n",
    "response = query_engine.query(\n",
    "    \"What are the most prominent rules in cricket? Explain\"\n",
    ")\n",
    "print(response)"
   ]
  }
 ],
 "metadata": {
  "kernelspec": {
   "display_name": "my_master",
   "language": "python",
   "name": "python3"
  },
  "language_info": {
   "codemirror_mode": {
    "name": "ipython",
    "version": 3
   },
   "file_extension": ".py",
   "mimetype": "text/x-python",
   "name": "python",
   "nbconvert_exporter": "python",
   "pygments_lexer": "ipython3",
   "version": "3.10.14"
  }
 },
 "nbformat": 4,
 "nbformat_minor": 2
}
